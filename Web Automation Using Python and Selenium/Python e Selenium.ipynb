{
 "cells": [
  {
   "cell_type": "markdown",
   "id": "97378416",
   "metadata": {},
   "source": [
    "# Automação Web com Selenium\n",
    "\n",
    "#### Python + Selenium\n",
    "\n",
    "- 2 requisitos:\n",
    "    - Instalar o Selenium\n",
    "    - Webdriver Manager"
   ]
  },
  {
   "cell_type": "code",
   "execution_count": 14,
   "id": "08e4000f",
   "metadata": {},
   "outputs": [],
   "source": [
    "# Para aprender, vamos usar o Python para preencher um formulário na internet\n",
    "\n",
    "# Passo 1: Entrar em https://pages.hashtagtreinamentos.com/inscricao-minicurso-python-automacao-org?origemurl=hashtag_yt_org_minipython_videoselenium\n",
    "# Passo 2: Preencher nome, preencher e-mail\n",
    "# Passo 3: Clicar no botão para enviar o formulário"
   ]
  },
  {
   "cell_type": "code",
   "execution_count": 15,
   "id": "48050f06",
   "metadata": {},
   "outputs": [],
   "source": [
    "from selenium import webdriver\n",
    "from webdriver_manager.firefox import GeckoDriverManager\n",
    "from selenium.webdriver.firefox.service import Service\n",
    "\n",
    "servico=Service(GeckoDriverManager().install()) #verificar a versao do nav e instalar a versao do manager\n",
    "\n",
    "navegador=webdriver.Firefox(service=servico)"
   ]
  },
  {
   "cell_type": "code",
   "execution_count": 16,
   "id": "bf8c5c01",
   "metadata": {},
   "outputs": [],
   "source": [
    "# Passo 1: Entrar em\n",
    "\n",
    "navegador.get(\"https://pages.hashtagtreinamentos.com/inscricao-minicurso-python-automacao-org?origemurl=hashtag_yt_org_minipython_8AMNaVt0z_M\")\n",
    "\n",
    "navegador.find_element(\"xpath\",'/html/body/div[2]/div[1]/section/div[2]/div/div[2]/form/div[1]/div/div[1]/div/input').send_keys(\"Karen\")\n",
    "navegador.find_element(\"xpath\",'/html/body/div[2]/div[1]/section/div[2]/div/div[2]/form/div[1]/div/div[2]/div/input').send_keys(\"blablabla@gmail.com\")\n",
    "\n",
    "navegador.find_element(\"xpath\",'/html/body/div[2]/div[1]/section/div[2]/div/div[2]/form/button/span/b').click()"
   ]
  }
 ],
 "metadata": {
  "kernelspec": {
   "display_name": "Python 3",
   "language": "python",
   "name": "python3"
  },
  "language_info": {
   "codemirror_mode": {
    "name": "ipython",
    "version": 3
   },
   "file_extension": ".py",
   "mimetype": "text/x-python",
   "name": "python",
   "nbconvert_exporter": "python",
   "pygments_lexer": "ipython3",
   "version": "3.11.9"
  }
 },
 "nbformat": 4,
 "nbformat_minor": 5
}
